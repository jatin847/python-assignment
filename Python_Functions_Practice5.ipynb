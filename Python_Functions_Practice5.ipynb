{
  "cells": [
    {
      "cell_type": "markdown",
      "metadata": {
        "id": "PoT3Ns6bzMHX"
      },
      "source": [
        "#### 1.Write a Python function check the number is prime or not?"
      ]
    },
    {
      "cell_type": "code",
      "execution_count": 5,
      "metadata": {
        "id": "iibYzGGtzH4C"
      },
      "outputs": [
        {
          "name": "stdout",
          "output_type": "stream",
          "text": [
            "4 is not a prime number\n"
          ]
        }
      ],
      "source": [
        "num = 4\n",
        "# If given number is greater than 1\n",
        "if num > 1:\n",
        "    # Iterate from 2 to n // 2\n",
        "    for i in range(2, (num//2)+1):\n",
        "        # If num is divisible by any number between\n",
        "        # 2 and n / 2, it is not prime\n",
        "        if (num % i) == 0:\n",
        "            print(num, \"is not a prime number\")\n",
        "            break\n",
        "    else:\n",
        "        print(num, \"is a prime number\")\n",
        "else:\n",
        "    print(num, \"is not a prime number\")"
      ]
    },
    {
      "cell_type": "markdown",
      "metadata": {
        "id": "oAoEH4GYzQ3S"
      },
      "source": [
        "#### 2.Write a Python function string is palindrome or not?"
      ]
    },
    {
      "cell_type": "code",
      "execution_count": 7,
      "metadata": {
        "id": "SodMRdGNzRJw"
      },
      "outputs": [
        {
          "name": "stdout",
          "output_type": "stream",
          "text": [
            "No\n"
          ]
        }
      ],
      "source": [
        "def isPalindrome(s):\n",
        "    return s == s[::-1]\n",
        " \n",
        " \n",
        "# Driver code\n",
        "s = \"kaya\"\n",
        "ans = isPalindrome(s)\n",
        " \n",
        "if ans:\n",
        "    print(\"Yes\")\n",
        "else:\n",
        "    print(\"No\")"
      ]
    },
    {
      "cell_type": "markdown",
      "metadata": {
        "id": "17MlAlemzftA"
      },
      "source": [
        "#### 3. Write a Python function Print 7 Pascal's triangle."
      ]
    },
    {
      "cell_type": "code",
      "execution_count": 9,
      "metadata": {
        "id": "346plyxtzf6k"
      },
      "outputs": [
        {
          "name": "stdout",
          "output_type": "stream",
          "text": [
            "1\n",
            "11\n",
            "121\n",
            "1331\n",
            "14641\n",
            "15101051\n",
            "1615201561\n"
          ]
        }
      ],
      "source": [
        "from math import factorial\n",
        "#input \n",
        "n=7\n",
        "for i in range(n):\n",
        "    for j in range(n-i+1):\n",
        "        print ( end= \"\")\n",
        "    for j in range (i +1):\n",
        "        print(factorial(i)// (factorial(j)*factorial(i-j)), end=\"\" )    \n",
        "    print()    "
      ]
    },
    {
      "cell_type": "markdown",
      "metadata": {
        "id": "V_xfOEQvzlP-"
      },
      "source": [
        "4. #### 5.Write a Python function to calculate the harmonic mean\n",
        "\n",
        "HM = n / [1/x1 + 1/x2 + 1/x3 + ... + 1/xn]\n",
        "\n",
        "Here, the total number of observations is divided by the sum of reciprocals of all observations."
      ]
    },
    {
      "cell_type": "code",
      "execution_count": null,
      "metadata": {
        "id": "G3Xm_Wfvz0Tf"
      },
      "outputs": [],
      "source": [
        "def harmonic_mean(numbers):\n",
        "    if not numbers:\n",
        "        return None\n",
        "    reciprocal_sum = sum(1 / num for num in numbers)\n",
        "    return len(numbers) / reciprocal_sum\n",
        "\n",
        "# Example usage:\n",
        "numbers = [2, 4, 6, 8]\n",
        "print(\"Harmonic mean:\", harmonic_mean(numbers))"
      ]
    },
    {
      "cell_type": "markdown",
      "metadata": {
        "id": "An-bG3Ia0Dwn"
      },
      "source": [
        "#### Types of arguments\n",
        "\n",
        "\n",
        "    1. Required arguments\n",
        "    2. Keyword arguments\n",
        "    3. Default arguments\n",
        "    4. Variable-length arguments"
      ]
    },
    {
      "cell_type": "markdown",
      "metadata": {
        "id": "QaWwxJgD0ITP"
      },
      "source": [
        "#### 1. Required arguments: (the function calculate returns the sum of two arguments a and b )"
      ]
    },
    {
      "cell_type": "code",
      "execution_count": null,
      "metadata": {
        "id": "DMU81ynX0EDx"
      },
      "outputs": [],
      "source": [
        "def sum_of_two(a, b):\n",
        "    return a + b\n",
        "\n",
        "# Example usage:\n",
        "result = sum_of_two(3, 4)\n",
        "print(\"Sum:\", result)"
      ]
    },
    {
      "cell_type": "markdown",
      "metadata": {
        "id": "ssQeyLoE0KPK"
      },
      "source": [
        "#### 2.Keyword arguments:(The function simple_interest(p, t, r) is called with the keyword arguments)\n",
        "\n",
        " P = (100 × S.I.)/(R × T)"
      ]
    },
    {
      "cell_type": "code",
      "execution_count": null,
      "metadata": {
        "id": "QGsoeae00Kko"
      },
      "outputs": [],
      "source": [
        "def simple_interest(p=None, t=None, r=None, si=None):\n",
        "    if si is None:\n",
        "        if p is None or t is None or r is None:\n",
        "            return \"Please provide values for p, t, and r.\"\n",
        "        else:\n",
        "            si = (p * t * r) / 100\n",
        "\n",
        "    if p is None:\n",
        "        if si is None or t is None or r is None:\n",
        "            return \"Please provide values for p, t, and r.\"\n",
        "        else:\n",
        "            p = (100 * si) / (r * t)\n",
        "\n",
        "    if t is None:\n",
        "        if p is None or si is None or r is None:\n",
        "            return \"Please provide values for p, t, and r.\"\n",
        "        else:\n",
        "            t = si / (p * r / 100)\n",
        "\n",
        "    if r is None:\n",
        "        if p is None or t is None or si is None:\n",
        "            return \"Please provide values for p, t, and r.\"\n",
        "        else:\n",
        "            r = si / (p * t / 100)\n",
        "\n",
        "    return {\"p\": p, \"t\": t, \"r\": r, \"si\": si}\n",
        "\n",
        "\n",
        "# Example usage:\n",
        "# Call the function with p, t, and r to calculate simple interest\n",
        "result = simple_interest(p=5000, t=2, r=10)\n",
        "print(result)  # Output: {'p': 5000, 't': 2, 'r': 10, 'si': 1000.0}\n",
        "\n",
        "# Call the function with si to calculate p using the formula\n",
        "result = simple_interest(si=1000, t=2, r=10)\n",
        "print(result)  # Output: {'p': 5000.0, 't': 2, 'r': 10, 'si': 1000}\n"
      ]
    },
    {
      "cell_type": "markdown",
      "metadata": {
        "id": "aPe4hgEy0igE"
      },
      "source": [
        "#### 3. Default arguments: (the function calculate returns the multiplication of 4 arguments a, b ,c and d. Variable c and d will have default arguments of 45 and 10)"
      ]
    },
    {
      "cell_type": "code",
      "execution_count": null,
      "metadata": {
        "id": "q9bngT0_0vHa"
      },
      "outputs": [],
      "source": [
        "def calculate(a, b, c=45, d=10):\n",
        "    return a * b * c * d\n",
        "\n",
        "# Example usage:\n",
        "# Call the function with all arguments provided\n",
        "result1 = calculate(2, 3, 4, 5)\n",
        "print(result1)  # Output: 1200 (2 * 3 * 4 * 5)\n",
        "\n",
        "# Call the function with only two arguments provided, using default values for c and d\n",
        "result2 = calculate(2, 3)\n",
        "print(result2)  # Output: 2700 (2 * 3 * 45 * 10)\n"
      ]
    },
    {
      "cell_type": "markdown",
      "metadata": {
        "id": "IJXOzdIV0vyG"
      },
      "source": []
    }
  ],
  "metadata": {
    "colab": {
      "provenance": []
    },
    "kernelspec": {
      "display_name": "Python 3",
      "name": "python3"
    },
    "language_info": {
      "codemirror_mode": {
        "name": "ipython",
        "version": 3
      },
      "file_extension": ".py",
      "mimetype": "text/x-python",
      "name": "python",
      "nbconvert_exporter": "python",
      "pygments_lexer": "ipython3",
      "version": "3.12.3"
    }
  },
  "nbformat": 4,
  "nbformat_minor": 0
}
